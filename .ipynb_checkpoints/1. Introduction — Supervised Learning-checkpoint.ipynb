{
 "cells": [
  {
   "cell_type": "code",
   "execution_count": 1,
   "metadata": {
    "collapsed": true
   },
   "outputs": [],
   "source": [
    "from sklearn import datasets\n",
    "from sklearn import svm\n",
    "import matplotlib.pyplot as plt\n",
    "%matplotlib inline"
   ]
  },
  {
   "cell_type": "markdown",
   "metadata": {},
   "source": [
    "# Data\n",
    "\n",
    "## Try it out:\n",
    "\n",
    "- Take a look at some of the images in the dataset\n",
    "- If new to Python or numpy/scikit: play around with indexing and numpy methods e.g.,\n",
    "    - array.shape\n",
    "    - array[2,3]\n",
    "    - array[:100]\n",
    "    - array[100:]\n",
    "    - array[-100:]\n",
    "    - array[:-100]\n",
    "    - array.T\n",
    "    - array.resize(m, n)"
   ]
  },
  {
   "cell_type": "code",
   "execution_count": 2,
   "metadata": {
    "collapsed": false
   },
   "outputs": [
    {
     "name": "stdout",
     "output_type": "stream",
     "text": [
      "[[  0.   0.   5. ...,   0.   0.   0.]\n",
      " [  0.   0.   0. ...,  10.   0.   0.]\n",
      " [  0.   0.   0. ...,  16.   9.   0.]\n",
      " ..., \n",
      " [  0.   0.   1. ...,   6.   0.   0.]\n",
      " [  0.   0.   2. ...,  12.   0.   0.]\n",
      " [  0.   0.  10. ...,  12.   1.   0.]]\n"
     ]
    },
    {
     "data": {
      "text/plain": [
       "<matplotlib.image.AxesImage at 0x111ea2470>"
      ]
     },
     "execution_count": 2,
     "metadata": {},
     "output_type": "execute_result"
    },
    {
     "data": {
      "image/png": "[encoded data removed]",
      "text/plain": [
       "<matplotlib.figure.Figure at 0x11291eef0>"
      ]
     },
     "metadata": {},
     "output_type": "display_data"
    }
   ],
   "source": [
    "# Load Data\n",
    "digits = datasets.load_digits()\n",
    "# Data can be viewed in matrix form...\n",
    "print(digits.data)\n",
    "# ...or image form\n",
    "plt.imshow(digits.images[100], cmap='gray')"
   ]
  },
  {
   "cell_type": "code",
   "execution_count": 3,
   "metadata": {
    "collapsed": false
   },
   "outputs": [
    {
     "name": "stdout",
     "output_type": "stream",
     "text": [
      "Data Shape: (1797, 64)\n",
      "Number of Examples: 1797\n",
      "Number of Features: 64\n"
     ]
    }
   ],
   "source": [
    "print(\"Data Shape:\", digits.data.shape) # shape = (num_rows, num_columns)\n",
    "print(\"Number of Examples:\", digits.data.shape[0]) # Each row is an example...\n",
    "print(\"Number of Features:\", digits.data.shape[1]) # Each column is a feature..."
   ]
  },
  {
   "cell_type": "markdown",
   "metadata": {},
   "source": [
    "## Labels\n",
    "\n",
    "### Sanity check:\n",
    "- Do the number of labels match the number of examples in the data?"
   ]
  },
  {
   "cell_type": "code",
   "execution_count": 4,
   "metadata": {
    "collapsed": false
   },
   "outputs": [
    {
     "name": "stdout",
     "output_type": "stream",
     "text": [
      "[0 1 2 ..., 8 9 8]\n"
     ]
    }
   ],
   "source": [
    "# This is a supervised learning task, so the training data has labels\n",
    "print(digits.target)"
   ]
  },
  {
   "cell_type": "code",
   "execution_count": 5,
   "metadata": {
    "collapsed": false
   },
   "outputs": [
    {
     "name": "stdout",
     "output_type": "stream",
     "text": [
      "Number of Labels: (1797,)\n"
     ]
    }
   ],
   "source": [
    "print(\"Number of Labels:\", digits.target.shape)"
   ]
  },
  {
   "cell_type": "markdown",
   "metadata": {},
   "source": [
    "## Split Data\n",
    "\n",
    "### Key Points:\n",
    "- Watch out for information leaks\n",
    "- Do not train or tune on test data\n",
    "- Make sure training/test sets are drawn from the same distribution (e.g., by random assignment)\n",
    "- **Use a validation set!!**\n",
    "\n",
    "### Methods:\n",
    "- Cross Validation\n",
    "    - Holdout\n",
    "    - Leave-*one*-Out (LOOCV)\n",
    "    - Leave-*p*-Out (LPOCV)\n",
    "    - *k*-Fold (KFCV)\n",
    "    - Repeated Random Subsampling\n",
    "    \n",
    "### Questions:\n",
    "- Is it possible that information from the test set may have leaked into the training set?\n",
    "- If you let some examples from the test set get into the training set, how does it affect the results in later stages? (Try it out!)\n",
    "- Are we sure that the training and test sets are drawn from the same distribution?\n",
    "- How does changing the number of examples in each set affect the results in later stages? (Try it out!)"
   ]
  },
  {
   "cell_type": "code",
   "execution_count": 10,
   "metadata": {
    "collapsed": true
   },
   "outputs": [],
   "source": [
    "train_max = 1000\n",
    "valid_max = 1350\n",
    "train_X, train_y = digits.data[:train_max], digits.target[:train_max]\n",
    "valid_X, valid_y = digits.data[train_max:valid_max], digits.target[train_max:valid_max]\n",
    "test_X, test_y = digits.data[valid_max:], digits.target[valid_max:]"
   ]
  },
  {
   "cell_type": "markdown",
   "metadata": {},
   "source": [
    "## Train\n",
    "\n",
    "### Try it out:\n",
    "\n",
    "Tune `gamma` and `C` used when instantiating the `model` variable:\n",
    "   1. Fit the model to the training data\n",
    "   2. Check the score on the validation set\n",
    "   3. Go back up and change the value of either `gamma` or `C`\n",
    "   4. Repeat the above steps until you're satisfied (or bored)\n",
    "\n",
    "### Bonus:\n",
    "- Look up some other classifiers (other than `svm.SVC`) in the scikit-learn documentation, and try training/tuning them on the same data. Do these perform very well on this dataset? What about after you tune them?"
   ]
  },
  {
   "cell_type": "code",
   "execution_count": 20,
   "metadata": {
    "collapsed": false
   },
   "outputs": [
    {
     "name": "stdout",
     "output_type": "stream",
     "text": [
      "Training Score: 1.0\n"
     ]
    }
   ],
   "source": [
    "model = svm.SVC(gamma=0.001, C=100.)\n",
    "model.fit(train_X, train_y)\n",
    "print(\"Training Score:\", model.score(train_X, train_y))"
   ]
  },
  {
   "cell_type": "markdown",
   "metadata": {},
   "source": [
    "## Validation\n",
    "\n",
    "### Questions:\n",
    "- How does changing `gamma` and `C` affect the score on the validation set?"
   ]
  },
  {
   "cell_type": "code",
   "execution_count": 21,
   "metadata": {
    "collapsed": false
   },
   "outputs": [
    {
     "name": "stdout",
     "output_type": "stream",
     "text": [
      "Validation Score: 0.982857142857\n"
     ]
    }
   ],
   "source": [
    "print(\"Validation Score:\", model.score(valid_X, valid_y))"
   ]
  },
  {
   "cell_type": "markdown",
   "metadata": {},
   "source": [
    "## Test\n",
    "\n",
    "### Questions:\n",
    "- Do very high scores on the validation set always lead to high scores on the test set?\n",
    "- Should the test or validation scores ever be higher than the score on the training set?\n",
    "- Why is it a problem to tune `gamma` or `C` based on a model's performace on the test set?"
   ]
  },
  {
   "cell_type": "code",
   "execution_count": 22,
   "metadata": {
    "collapsed": false
   },
   "outputs": [
    {
     "name": "stdout",
     "output_type": "stream",
     "text": [
      "Test Score 0.959731543624\n"
     ]
    }
   ],
   "source": [
    "print(\"Test Score\", model.score(test_X, test_y))"
   ]
  },
  {
   "cell_type": "markdown",
   "metadata": {},
   "source": [
    "## Predict\n",
    "\n",
    "### Try it out:\n",
    "See for yourself how it performs on different images!"
   ]
  },
  {
   "cell_type": "code",
   "execution_count": 23,
   "metadata": {
    "collapsed": false
   },
   "outputs": [
    {
     "name": "stdout",
     "output_type": "stream",
     "text": [
      "Prediction: 1\n"
     ]
    },
    {
     "data": {
      "image/png": "[encoded data removed]",
      "text/plain": [
       "<matplotlib.figure.Figure at 0x1127c5080>"
      ]
     },
     "metadata": {},
     "output_type": "display_data"
    }
   ],
   "source": [
    "plt.imshow(digits.images[1500], cmap='gray')\n",
    "print(\"Prediction:\", model.predict(digits.data[1500].reshape((1,-1)))[0])"
   ]
  },
  {
   "cell_type": "code",
   "execution_count": null,
   "metadata": {
    "collapsed": true
   },
   "outputs": [],
   "source": []
  }
 ],
 "metadata": {
  "kernelspec": {
   "display_name": "Python 3",
   "language": "python",
   "name": "python3"
  },
  "language_info": {
   "codemirror_mode": {
    "name": "ipython",
    "version": 3
   },
   "file_extension": ".py",
   "mimetype": "text/x-python",
   "name": "python",
   "nbconvert_exporter": "python",
   "pygments_lexer": "ipython3",
   "version": "3.5.1"
  }
 },
 "nbformat": 4,
 "nbformat_minor": 0
}
